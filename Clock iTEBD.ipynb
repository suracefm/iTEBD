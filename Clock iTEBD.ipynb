{
 "cells": [
  {
   "cell_type": "code",
   "execution_count": 18,
   "metadata": {},
   "outputs": [],
   "source": [
    "import numpy as np\n",
    "from trotter import *"
   ]
  },
  {
   "cell_type": "markdown",
   "metadata": {},
   "source": [
    "# Clock Hamiltonian"
   ]
  },
  {
   "cell_type": "markdown",
   "metadata": {},
   "source": [
    "\\begin{equation}\n",
    "H=J\\sum_i \\sum_{m=1}^{n-1} \\alpha_m \\sigma_i^m \\sigma_{i+1}^{-m}+g\\sum_i \\sum_{m=1}^{n-1} \\beta_m \\tau_i^m\n",
    "\\end{equation}"
   ]
  },
  {
   "cell_type": "code",
   "execution_count": 221,
   "metadata": {},
   "outputs": [],
   "source": [
    "dim = 3 # order of the clock (n) \n",
    "g = -1.0; J = float(\"{0:.5f}\".format(-1-g)); theta = 0; phi = 0;\n",
    "alpha = np.array([np.exp(1j*theta),np.exp(-1j*theta)])\n",
    "beta = np.array([np.exp(1j*phi),np.exp(1j*phi)])\n",
    "\n",
    "chi = 10; delta = 0.01; N = 500"
   ]
  },
  {
   "cell_type": "markdown",
   "metadata": {},
   "source": [
    "#### Construct operators"
   ]
  },
  {
   "cell_type": "code",
   "execution_count": 225,
   "metadata": {},
   "outputs": [],
   "source": [
    "sigma = np.diag(np.exp(1j*2*np.pi*np.arange(dim)/dim))\n",
    "tau = np.roll(np.eye(dim), -1, axis = -1)\n",
    "interactions = list(zip(J*alpha, [sigma**m for m in range(1,dim)], [sigma**(dim-m) for m in range(1,dim)]))\n",
    "transv_field = list(zip(g*beta, [tau**m for m in range(1,dim)]))\n",
    "U=ST_step(delta, interactions, transv_field)"
   ]
  },
  {
   "cell_type": "markdown",
   "metadata": {},
   "source": [
    "#### Initialization with random state"
   ]
  },
  {
   "cell_type": "code",
   "execution_count": 133,
   "metadata": {},
   "outputs": [],
   "source": [
    "GA0 = np.random.rand(dim,chi,chi)\n",
    "LA0 = np.random.rand(chi)\n",
    "GB0 = np.random.rand(dim,chi,chi)\n",
    "LB0 = np.random.rand(chi)"
   ]
  },
  {
   "cell_type": "markdown",
   "metadata": {},
   "source": [
    "#### iTEBD"
   ]
  },
  {
   "cell_type": "code",
   "execution_count": 134,
   "metadata": {},
   "outputs": [
    {
     "name": "stdout",
     "output_type": "stream",
     "text": [
      "Energy -2.0000000000000204\n",
      "SigmaA (-2.3819654637601963e-08-1.0373955250386686e-08j)\n",
      "SigmaB (-1.252273063272242e-08-2.1077886701317884e-09j)\n"
     ]
    }
   ],
   "source": [
    "res={}\n",
    "res_names = [\"Energy\", \"SigmaA\", \"SigmaB\"]\n",
    "\n",
    "GA = GA0; LA = LA0; GB = GB0; LB=LB0\n",
    "discarded_weights = []\n",
    "for step in range(N):\n",
    "    GA, LA, GB, dw, norm_sq = iTEDB(dim, chi, GA, LA, GB, LB, U)\n",
    "    E_sim =-np.log(norm_sq)/delta/2\n",
    "    discarded_weights.append(dw)\n",
    "    GB, LB, GA, dw, norm_sq = iTEDB(dim, chi, GB, LB, GA, LA, U)\n",
    "    E_sim =-np.log(norm_sq)/delta/2\n",
    "    discarded_weights.append(dw)\n",
    "res[\"Energy\"] = E_sim\n",
    "res[\"SigmaA\"] = np.einsum('sab,tab,st,b,a->', GA, np.conj(GA), sigma, LA**2, LB**2)\n",
    "res[\"SigmaB\"] = np.einsum('sab,tab,st,b,a->', GB, np.conj(GB), sigma, LB**2, LA**2)\n",
    "\n",
    "for key in res_names: print(key, res[key])\n",
    "#print(\"Discarder weights\", discarded_weights)\n",
    "#print(\"Entanglement spectrum\", LB**2)"
   ]
  },
  {
   "cell_type": "markdown",
   "metadata": {},
   "source": [
    "#### Save to file"
   ]
  },
  {
   "cell_type": "code",
   "execution_count": 135,
   "metadata": {},
   "outputs": [],
   "source": [
    "File_code = '{}J_{}g_{}theta_{}phi_{}Chi_{}delta_{}N'.format(J, g, theta, phi, chi, delta,N)\n",
    "!mkdir -p {'clock3/data_'+File_code}\n",
    "\n",
    "Outfile1 = './clock3/data_{}/Results.dat'.format(File_code)\n",
    "Outfile2 = './clock3/data_{}/EntanglementSpectrum.dat'.format(File_code)\n",
    "Outfile3 = './clock3/data_{}/DiscardedWeights.dat'.format(File_code)\n",
    "\n",
    "with open(Outfile1, 'w') as f1:\n",
    "    print('# ', File_code, file=f1)\n",
    "    print('# ', *res_names, file=f1)\n",
    "    print(*[res[key] for key in res_names], file=f1)\n",
    "np.savetxt(Outfile2, LB**2, header=File_code)\n",
    "np.savetxt(Outfile3, discarded_weights, header=File_code)"
   ]
  },
  {
   "cell_type": "markdown",
   "metadata": {},
   "source": [
    "# Analysis of the 3-state clock model"
   ]
  },
  {
   "cell_type": "markdown",
   "metadata": {},
   "source": [
    "\\begin{equation}\n",
    "H=J\\sum_i (e^{i\\theta}\\sigma_i \\sigma_{i+1}^\\dagger + h.c.)+g\\sum_i (e^{i\\varphi} \\tau_i+h.c.)\n",
    "\\end{equation}"
   ]
  },
  {
   "cell_type": "code",
   "execution_count": 136,
   "metadata": {},
   "outputs": [],
   "source": [
    "import glob\n",
    "import re"
   ]
  },
  {
   "cell_type": "markdown",
   "metadata": {},
   "source": [
    "#### Read data files"
   ]
  },
  {
   "cell_type": "code",
   "execution_count": 212,
   "metadata": {},
   "outputs": [],
   "source": [
    "datalist=[]\n",
    "for name in glob.glob('clock3/data_*J_*g_*theta_*phi_*Chi_*delta_*N'):\n",
    "    ES = np.loadtxt('{}/EntanglementSpectrum.dat'.format(name))\n",
    "    EE = -np.sum(ES*np.log(ES))\n",
    "    res = np.genfromtxt('{}/Results.dat'.format(name), dtype=(np.float64, np.complex128, np.complex128))\n",
    "    m = re.match('clock3/data_(.*)J_(.*)g_(.*)theta_(.*)phi_(.*)Chi_(.*)delta_(.*)N', name)\n",
    "    datalist.append(np.array([(*m.groups(), *res.item(), EE)],\\\n",
    "             dtype=[\\\n",
    "                    ('J', np.float64), ('g', np.float64), ('theta', np.float64),\\\n",
    "                    ('phi', np.float64), ('chi', np.int32), ('delta', np.float64), ('N', np.int32),\\\n",
    "                    ('Energy', np.float64), ('SigmaA', np.complex128), ('SigmaB', np.complex128),\\\n",
    "                    ('EE', np.float64)]))\n",
    "datalist = sorted(datalist, key= lambda x: (x['phi'], x['J'], x['theta']))\n",
    "data = np.array(datalist)\n",
    "data = np.reshape(data, (3,11,11))"
   ]
  },
  {
   "cell_type": "markdown",
   "metadata": {},
   "source": [
    "#### Plot"
   ]
  },
  {
   "cell_type": "code",
   "execution_count": 220,
   "metadata": {},
   "outputs": [
    {
     "data": {
      "image/png": "[encoded data removed]",
      "text/plain": [
       "<Figure size 864x360 with 4 Axes>"
      ]
     },
     "metadata": {},
     "output_type": "display_data"
    },
    {
     "data": {
      "image/png": "[encoded data removed]",
      "text/plain": [
       "<Figure size 864x360 with 4 Axes>"
      ]
     },
     "metadata": {},
     "output_type": "display_data"
    },
    {
     "data": {
      "image/png": "[encoded data removed]",
      "text/plain": [
       "<Figure size 864x360 with 4 Axes>"
      ]
     },
     "metadata": {},
     "output_type": "display_data"
    }
   ],
   "source": [
    "for dataset in data:\n",
    "    fig, axes = plt.subplots(1,2, figsize=(12,5))\n",
    "\n",
    "    c1 = axes[0].pcolor(dataset['theta'], -dataset['g'], np.abs(dataset['SigmaA']))\n",
    "    c2 = axes[1].pcolor(dataset['theta'], -dataset['g'], np.abs(dataset['EE']))\n",
    "    axes[0].set_title(r'$|<\\sigma>|$')\n",
    "    axes[1].set_title('Entanglement Entropy')\n",
    "    for ax in axes:\n",
    "        ax.set_xlabel(r'$\\theta$')\n",
    "        ax.set_ylabel(r'$g$')\n",
    "    fig.colorbar(c1, ax=axes[0])\n",
    "    fig.colorbar(c2, ax=axes[1])\n",
    "    plt.suptitle(r'$\\varphi={}$'.format(dataset['phi'][0,0]))\n",
    "    plt.show()"
   ]
  },
  {
   "cell_type": "markdown",
   "metadata": {},
   "source": [
    "Results obtained with $\\chi = 10$, $\\delta = 0.01$, $N = 500$"
   ]
  },
  {
   "cell_type": "markdown",
   "metadata": {},
   "source": [
    "### Results in literature\n",
    "![](plotz3.png)\n",
    "*Phase diagram of the \n",
    "$\\mathbb{Z}_3$ parafermionic chain with chiral interactions*\n",
    "Ye Zhuang, Hitesh J. Changlani, Norm M. Tubman, and Taylor L. Hughes\n",
    "Phys. Rev. B 92, 035154"
   ]
  },
  {
   "cell_type": "code",
   "execution_count": null,
   "metadata": {},
   "outputs": [],
   "source": []
  }
 ],
 "metadata": {
  "kernelspec": {
   "display_name": "Python [conda root]",
   "language": "python",
   "name": "conda-root-py"
  },
  "language_info": {
   "codemirror_mode": {
    "name": "ipython",
    "version": 3
   },
   "file_extension": ".py",
   "mimetype": "text/x-python",
   "name": "python",
   "nbconvert_exporter": "python",
   "pygments_lexer": "ipython3",
   "version": "3.5.5"
  }
 },
 "nbformat": 4,
 "nbformat_minor": 2
}
